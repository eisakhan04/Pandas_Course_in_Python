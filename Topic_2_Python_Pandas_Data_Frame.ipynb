{
  "nbformat": 4,
  "nbformat_minor": 0,
  "metadata": {
    "colab": {
      "private_outputs": true,
      "provenance": [],
      "include_colab_link": true
    },
    "kernelspec": {
      "name": "python3",
      "display_name": "Python 3"
    },
    "language_info": {
      "name": "python"
    }
  },
  "cells": [
    {
      "cell_type": "markdown",
      "metadata": {
        "id": "view-in-github",
        "colab_type": "text"
      },
      "source": [
        "<a href=\"https://colab.research.google.com/github/eisakhan04/Pandas_Course_in_Python/blob/main/Topic_2_Python_Pandas_Data_Frame.ipynb\" target=\"_parent\"><img src=\"https://colab.research.google.com/assets/colab-badge.svg\" alt=\"Open In Colab\"/></a>"
      ]
    },
    {
      "cell_type": "markdown",
      "source": [
        "**Topic 2: Python Pandas Data Frame**\n",
        "\n",
        "Pandas DataFrame is a widely used data structure which works with a two-dimensional array with labeled axes (rows and columns). DataFrame is defined as a standard way to store data that has two different indexes, i.e., row index and column index. It consists of the following properties:\n",
        "\n",
        "The columns can be heterogeneous types like int, bool, and so on.\n",
        "\n",
        "\n",
        "It can be seen as a dictionary of Series structure where both the rows and columns are indexed. It is denoted as \"columns\" in case of columns and \"index\" in case of rows.\n",
        "\n",
        "**Parameter & Description:**\n",
        "\n",
        "**data:** It consists of different forms like ndarray, series, map, constants, lists, array.\n",
        "\n",
        "**index:** The Default np.arrange(n) index is used for the row labels if no index is passed.\n",
        "\n",
        "**columns:** The default syntax is np.arrange(n) for the column labels. It shows only true if no index is passed.\n",
        "\n",
        "\n",
        "**dtype:** It refers to the data type of each column.\n",
        "\n",
        "**copy():** It is used for copying the data.\n",
        "\n",
        "**Create a DataFrame**\n",
        "\n",
        "We can create a DataFrame using following ways:\n",
        "\n",
        "1. empty\n",
        "2. list\n",
        "3. dict\n",
        "4. Numpy ndarrrays\n",
        "5. Series\n"
      ],
      "metadata": {
        "id": "mWi3sFwRTUQe"
      }
    },
    {
      "cell_type": "markdown",
      "source": [
        "**1: Create an empty DataFrame**"
      ],
      "metadata": {
        "id": "i5H2qtY0Vmzi"
      }
    },
    {
      "cell_type": "code",
      "source": [
        "import pandas as pd\n",
        "df = pd.DataFrame()\n",
        "print (df)"
      ],
      "metadata": {
        "id": "kglJ3cyFVp8H"
      },
      "execution_count": null,
      "outputs": []
    },
    {
      "cell_type": "markdown",
      "source": [
        "This code will create an empty DataFrame with no columns and no rows. You can verify that the DataFrame is empty."
      ],
      "metadata": {
        "id": "P4rQc7W_Zo_7"
      }
    },
    {
      "cell_type": "markdown",
      "source": [
        "**2: Create a DataFrame using List:**"
      ],
      "metadata": {
        "id": "IXWSNsZnzjPr"
      }
    },
    {
      "cell_type": "markdown",
      "source": [
        "**Method 01  \n",
        "To create DataFrame**"
      ],
      "metadata": {
        "id": "-rNTHoFdWP4_"
      }
    },
    {
      "cell_type": "code",
      "source": [
        "import pandas as pd\n",
        "names=['fahim','Ali','Muzamil']\n",
        "df=pd.DataFrame(names)\n",
        "print(\"DataFrame: \\n\",df)"
      ],
      "metadata": {
        "id": "kn9PY2ZUVwHq"
      },
      "execution_count": null,
      "outputs": []
    },
    {
      "cell_type": "code",
      "source": [
        "import pandas as pd\n",
        "a = ['zeeshan','rooshiii','khan','imran']\n",
        "df = pd.DataFrame(a)\n",
        "print(\"DataFrame:\\n\",df)"
      ],
      "metadata": {
        "id": "hmqREm3t3l6a"
      },
      "execution_count": null,
      "outputs": []
    },
    {
      "cell_type": "markdown",
      "source": [
        "**Method 02\n",
        "  To create the DataFrame**"
      ],
      "metadata": {
        "id": "_C5m5whSWolj"
      }
    },
    {
      "cell_type": "code",
      "source": [
        "names = [\"John\", \"Jane\", \"Mary\"]\n",
        "ages = [25, 23, 20]\n",
        "\n",
        "df = pd.DataFrame(zip(names, ages))\n",
        "\n",
        "print(df)"
      ],
      "metadata": {
        "id": "xn6icMmBW1Z1"
      },
      "execution_count": null,
      "outputs": []
    },
    {
      "cell_type": "code",
      "execution_count": null,
      "metadata": {
        "id": "vqz0P4E6yr7N"
      },
      "outputs": [],
      "source": [
        "# importing the pandas library\n",
        "import pandas as pd\n",
        "x = ['Python', 'Pandas']\n",
        "# Calling DataFrame constructor on list\n",
        "frame = {'function':['Python', 'Pandas']}\n",
        "df = pd.DataFrame(frame)\n",
        "print(df)"
      ]
    },
    {
      "cell_type": "code",
      "source": [
        "import pandas as pd\n",
        "a = [11,22,33,44,55]\n",
        "frame = {'values' : [11,22,33,44,55]}\n",
        "df = pd.DataFrame(frame)\n",
        "print(df)"
      ],
      "metadata": {
        "id": "Hh3Kb6NT4sZ1"
      },
      "execution_count": null,
      "outputs": []
    },
    {
      "cell_type": "code",
      "source": [
        "import pandas as pd\n",
        "x = ['Python', 'Pandas', 'Numpy']\n",
        "# Calling DataFrame constructor on list\n",
        "df = pd.DataFrame(x,columns=['Values'])\n",
        "print(df)"
      ],
      "metadata": {
        "id": "GDiZPdu3QShs"
      },
      "execution_count": null,
      "outputs": []
    },
    {
      "cell_type": "code",
      "source": [
        "import pandas as pd\n",
        "a = ['java','C++','C sharp','python']\n",
        "df = pd.DataFrame(a , columns=['Languages'])\n",
        "print(df)\n"
      ],
      "metadata": {
        "id": "R8sMIVqU5q03"
      },
      "execution_count": null,
      "outputs": []
    },
    {
      "cell_type": "markdown",
      "source": [
        "**3. Create a DataFrame from Dict of ndarrays/ Lists:**"
      ],
      "metadata": {
        "id": "WdSq2_1D08wz"
      }
    },
    {
      "cell_type": "code",
      "source": [
        "import pandas as pd\n",
        "info ={'name  ' :['Fahim','Ali','Abdullah'],   'Department' :['B.Sc','B.Tech','M.Tech']\n",
        "       ,  'ID' : [101, 102, 103]}\n",
        "df = pd.DataFrame(info)\n",
        "print (df)"
      ],
      "metadata": {
        "id": "EZshXG-O1D6K"
      },
      "execution_count": null,
      "outputs": []
    },
    {
      "cell_type": "code",
      "source": [
        "import pandas as pd\n",
        "a = {'name' : ['zeeshan','ali','rooshan','khan'] , 'class' : [8,9,11,12] , 'RollNo' : [1,2,3,4]}\n",
        "frame = pd.DataFrame(a)\n",
        "print(frame)"
      ],
      "metadata": {
        "id": "TNvxP_gX6rko"
      },
      "execution_count": null,
      "outputs": []
    },
    {
      "cell_type": "markdown",
      "source": [
        "**4. Create a DataFrame using Numpy ndarrrays**"
      ],
      "metadata": {
        "id": "qFuOxIz9XtFO"
      }
    },
    {
      "cell_type": "markdown",
      "source": [
        "**Example 1: Creating a DataFrame with a single-dimensional ndarray**"
      ],
      "metadata": {
        "id": "s3nvXIQMYBlJ"
      }
    },
    {
      "cell_type": "code",
      "source": [
        "import numpy as np\n",
        "import pandas as pd\n",
        "\n",
        "# Create a 1D NumPy ndarray with values\n",
        "data = np.array([10, 20, 30, 40, 50])\n",
        "\n",
        "# Create a DataFrame from the ndarray\n",
        "df = pd.DataFrame(data,columns=['Values'])\n",
        "\n",
        "print(df)\n"
      ],
      "metadata": {
        "id": "TuoiEgl8YMrB"
      },
      "execution_count": null,
      "outputs": []
    },
    {
      "cell_type": "code",
      "source": [
        "import numpy as np\n",
        "import pandas as pd\n",
        "\n",
        "# Create a 1D NumPy ndarray with values\n",
        "data = np.array([10, 20, 30, 40, 50])\n",
        "frame ={'y':data}\n",
        "# Create a DataFrame from the ndarray\n",
        "df = pd.DataFrame(frame)\n",
        "\n",
        "print(df)"
      ],
      "metadata": {
        "id": "-gK1WnQsP6wu"
      },
      "execution_count": null,
      "outputs": []
    },
    {
      "cell_type": "markdown",
      "source": [
        "**Example 2: Creating a DataFrame with multiple one-dimensional ndarrays**"
      ],
      "metadata": {
        "id": "w_h43ydfYnSD"
      }
    },
    {
      "cell_type": "code",
      "source": [
        "import numpy as np\n",
        "import pandas as pd\n",
        "a = np.array([6,7,8])\n",
        "b = np.array([11,12,13])\n",
        "df = pd.DataFrame({'Col 1':a, 'Col 2':b})\n",
        "print(df)"
      ],
      "metadata": {
        "id": "FBFZJSp3Y0Ly"
      },
      "execution_count": null,
      "outputs": []
    },
    {
      "cell_type": "code",
      "source": [
        "import numpy as np\n",
        "import pandas as pd\n",
        "a = np.array([6,7,8])\n",
        "b = np.array([11,12,13])\n",
        "df = pd.DataFrame({'Col 1':a, 'Col 2':b})\n",
        "print(df)"
      ],
      "metadata": {
        "id": "xHuJXfTiRjW7"
      },
      "execution_count": null,
      "outputs": []
    },
    {
      "cell_type": "markdown",
      "source": [
        "**Example 3: Creating a DataFrame with a two-dimensional ndarray**"
      ],
      "metadata": {
        "id": "AQFS0AjdbKFV"
      }
    },
    {
      "cell_type": "code",
      "source": [
        "import numpy as np\n",
        "import pandas as pd\n",
        "\n",
        "# Create a 2D NumPy ndarray with values\n",
        "data = np.array([[1, 2, 3], [4, 5, 6], [7, 8, 9]])\n",
        "# Create a DataFrame from the ndarray\n",
        "df = pd.DataFrame(data, columns=['Column1', 'Column2', 'Column3'])\n",
        "\n",
        "print(df)\n"
      ],
      "metadata": {
        "id": "yYUf2yAnbMMP"
      },
      "execution_count": null,
      "outputs": []
    },
    {
      "cell_type": "code",
      "source": [
        "import numpy as np\n",
        "import pandas as pd\n",
        "\n",
        "data = np.array([[1, 2, 3], [4, 5, 6], [7, 8, 9]])\n",
        "frame ={'y':data.flatten()}\n",
        "df = pd.DataFrame(frame)\n",
        "print(df)"
      ],
      "metadata": {
        "id": "ZV-Ec9mC4WAD"
      },
      "execution_count": null,
      "outputs": []
    },
    {
      "cell_type": "markdown",
      "source": [
        "**Example 4: Creating a DataFrame with multiple two-dimensional ndarrays**"
      ],
      "metadata": {
        "id": "QgqD_6JBblMA"
      }
    },
    {
      "cell_type": "code",
      "source": [
        "import numpy as np\n",
        "import pandas as pd\n",
        "a = np.array([[2, 3, 4], [7, 8, 9]])\n",
        "b = np.array([[4, 7, 9], [11, 12, 13]])\n",
        "df = pd.DataFrame({'Col 1': a.flatten(), 'Col 2': b.flatten()})\n",
        "print(df)\n"
      ],
      "metadata": {
        "id": "CXbKzuT4bpKe"
      },
      "execution_count": null,
      "outputs": []
    },
    {
      "cell_type": "markdown",
      "source": [
        "**5. Create a DataFrame from Dict of Series:**"
      ],
      "metadata": {
        "id": "9cUHTFn32ooF"
      }
    },
    {
      "cell_type": "markdown",
      "source": [
        "**Example 01:  Create one Series with data**"
      ],
      "metadata": {
        "id": "ekNcqSnYTaeU"
      }
    },
    {
      "cell_type": "code",
      "source": [
        "import pandas as pd\n",
        "import numpy as np\n",
        "\n",
        "series1 = np.array([[10, 20, 30, 40, 50],[1,2,3,4,5]])\n",
        "df = pd.DataFrame({'Columns':series1.flatten()},index=['a','b','c','d','e','f','g','h','i','j'])\n",
        "print(df)"
      ],
      "metadata": {
        "id": "8c85GjTISFIN"
      },
      "execution_count": null,
      "outputs": []
    },
    {
      "cell_type": "code",
      "source": [
        "import pandas as pd\n",
        "import numpy as np\n",
        "\n",
        "data = np.array([[10, 20, 30, 40, 50], [1, 2, 3, 4, 5]])\n",
        "#index = [1, 2, 3, 4, 5,6,7,8,9,0]\n",
        "df = pd.DataFrame({'Col': data.flatten()}, index=[1, 2, 3, 4, 5,6,7,8,9,0])\n",
        "print(df)"
      ],
      "metadata": {
        "id": "t1J-5WEZgBOh"
      },
      "execution_count": null,
      "outputs": []
    },
    {
      "cell_type": "code",
      "source": [
        "import pandas as pd\n",
        "series1 = pd.Series([10, 20, 30, 40, 50],index=[1, 2, 3, 4, 5])\n",
        "df = pd.DataFrame(series1,columns=['Values'])\n",
        "print(df)"
      ],
      "metadata": {
        "id": "yh0HN7cF7i33"
      },
      "execution_count": null,
      "outputs": []
    },
    {
      "cell_type": "markdown",
      "source": [
        "**Example 02:  Create three Series with data**"
      ],
      "metadata": {
        "id": "DJshIp0KXGP4"
      }
    },
    {
      "cell_type": "code",
      "source": [
        "import pandas as pd\n",
        "Series1 = pd.Series(['Waqas','Mudasir','Shazad'], index =['a', 'b', 'c'])\n",
        "Series2 = pd.Series([27, 30, 40], index =['a', 'b', 'c'])\n",
        "Series3 = pd.Series([1997,1993,1983], index =['a', 'b', 'c'])\n",
        "df = pd.DataFrame({'Names':Series1,'Ages':Series2,'Years':Series3})\n",
        "df"
      ],
      "metadata": {
        "id": "4ME4rhRzXQMP"
      },
      "execution_count": null,
      "outputs": []
    },
    {
      "cell_type": "markdown",
      "source": [
        "**Example 3: Create  Series with Dictionary**"
      ],
      "metadata": {
        "id": "iB5MyjHDbLsx"
      }
    },
    {
      "cell_type": "code",
      "source": [
        "# importing the pandas library\n",
        "import pandas as pd\n",
        "\n",
        "info = {'one' :pd.Series([1, 2, 3, 4, 5, 6], index=['a', 'b', 'c', 'd', 'e', 'f']),\n",
        "        'two' :pd.Series([1, 2, 3, 4, 5, 6, 7, 8], index=['a', 'b', 'c', 'd', 'e', 'f', 'g', 'h'])}\n",
        "df = pd.DataFrame(info)\n",
        "print (df)"
      ],
      "metadata": {
        "id": "Ci9vWoWS2rTr"
      },
      "execution_count": null,
      "outputs": []
    },
    {
      "cell_type": "code",
      "source": [
        "import pandas as pd\n",
        "\n",
        "info =pd.DataFrame({'one' :pd.Series([1, 2, 3, 4, 5, 6], index=['a', 'b', 'c', 'd', 'e', 'f']),\n",
        "        'two' :pd.Series([1, 2, 3, 4, 5, 6, 7, 8], index=['a', 'b', 'c', 'd', 'e', 'f', 'g', 'h'])})\n",
        "print (info)"
      ],
      "metadata": {
        "id": "LchtRPtSte1z"
      },
      "execution_count": null,
      "outputs": []
    },
    {
      "cell_type": "markdown",
      "source": [
        "**Column Selection:**"
      ],
      "metadata": {
        "id": "OKbSMLQG4McD"
      }
    },
    {
      "cell_type": "code",
      "source": [
        "# importing the pandas library\n",
        "import pandas as pd\n",
        "info = {'one' : pd.Series([1, 2, 3, 4, 5, 6], index=['a', 'b', 'c', 'd', 'e', 'f']),\n",
        "   'two' : pd.Series([1, 2, 3, 4, 5, 6, 7, 8], index=['a', 'b', 'c', 'd', 'e', 'f', 'g', 'h'])}\n",
        "df = pd.DataFrame(info)\n",
        "print(df)\n",
        "print()\n",
        "print(df['two'])"
      ],
      "metadata": {
        "id": "-TTbSizF4dAr"
      },
      "execution_count": null,
      "outputs": []
    },
    {
      "cell_type": "markdown",
      "source": [
        "**Column Addition:**"
      ],
      "metadata": {
        "id": "Hfvc-95b5o8j"
      }
    },
    {
      "cell_type": "code",
      "source": [
        "\n",
        "import pandas as pd\n",
        "info = {'one' : pd.Series([1, 2, 3, 4, 5], index=['a', 'b', 'c', 'd', 'e']),'two' : pd.Series([1, 2, 3, 4, 5, 6], index=['a', 'b', 'c', 'd', 'e', 'f'])}\n",
        "df = pd.DataFrame(info)\n",
        "print(df)\n",
        "print()\n",
        "print (\"Add new column by passing series\")\n",
        "df['three']=pd.Series([20,40,60],index=['a','b','c'])\n",
        "print (df)"
      ],
      "metadata": {
        "id": "Qulmb82P6gL7"
      },
      "execution_count": null,
      "outputs": []
    },
    {
      "cell_type": "code",
      "source": [
        "print (\"Add new column using existing DataFrame columns\")\n",
        "df['four']=pd.Series([5 ,6, 7,8],index = ['a','b','c','d'] )\n",
        "print (df)"
      ],
      "metadata": {
        "id": "s-HdPLROqgqA"
      },
      "execution_count": null,
      "outputs": []
    },
    {
      "cell_type": "code",
      "source": [
        "#print (\"Add new column using existing DataFrame columns\")\n",
        "#df = {'five'=pd.serise(df['three']:[1,2,3,4,5] + df['four']:[6,7,8,9,0])}\n",
        "#print (df)"
      ],
      "metadata": {
        "id": "ZiaoyT3gtyoA"
      },
      "execution_count": null,
      "outputs": []
    },
    {
      "cell_type": "code",
      "source": [
        "df['five']=df['three'] + df['four']\n",
        "df"
      ],
      "metadata": {
        "id": "q6SHsRx6oQx2"
      },
      "execution_count": null,
      "outputs": []
    },
    {
      "cell_type": "markdown",
      "source": [
        "**Column Deletion:**"
      ],
      "metadata": {
        "id": "lDnzK11xQu5k"
      }
    },
    {
      "cell_type": "code",
      "source": [
        "import pandas as pd\n",
        "\n",
        "info = {'one' : pd.Series([1, 2], index= ['a', 'b']),'two' : pd.Series([1, 2, 3], index=['a', 'b', 'c'])}\n",
        "df = pd.DataFrame(info)\n",
        "print (\"The DataFrame:\")\n",
        "print (df)\n",
        "\n",
        "# using del function\n",
        "print (\"Delete the first column:\")\n",
        "del df['one']\n",
        "print (df)\n",
        "# using pop function\n",
        "print (\"Delete the another column:\")\n",
        "df.pop('two')\n",
        "print (df)"
      ],
      "metadata": {
        "id": "XDnwdNsRQ1WN"
      },
      "execution_count": null,
      "outputs": []
    },
    {
      "cell_type": "code",
      "source": [
        "import pandas as pd\n",
        "data={'one': pd.Series([1,9], index=['a','b']),'two': pd.Series([2,8] , index=['c','d']),'three': pd.Series([3,7], index=['e','f'])}\n",
        "datafram=pd.DataFrame(data)\n",
        "print(\"Dataframe of data : \\n\",datafram)\n",
        "# delete first column using Del function\n",
        "print(\"delete the first row : \\n\")\n",
        "del datafram['one']\n",
        "print(datafram)\n",
        "# delete another column using pop function.\n",
        "print(\"delete Secound column of dataframe\")\n",
        "datafram.pop('two')\n",
        "print(datafram)\n"
      ],
      "metadata": {
        "id": "KTHy0dlusyeH"
      },
      "execution_count": null,
      "outputs": []
    },
    {
      "cell_type": "markdown",
      "source": [
        "**Remove Clumnn using Drop() function**"
      ],
      "metadata": {
        "id": "XMoyiipDxOpf"
      }
    },
    {
      "cell_type": "code",
      "source": [
        "import pandas as pd\n",
        "\n",
        "df = pd.DataFrame({'a': [1, 2, 3]})\n",
        "print(df)\n",
        "\n",
        "df = df.drop('a',axis=1)\n",
        "\n",
        "print(df)"
      ],
      "metadata": {
        "id": "H-ETnwdaxapc"
      },
      "execution_count": null,
      "outputs": []
    },
    {
      "cell_type": "code",
      "source": [
        "import pandas as pd\n",
        "\n",
        "info = {'one' : pd.Series([1, 2], index= ['a', 'b']), 'two' : pd.Series([1, 2, 3], index=['a', 'b', 'c'])}\n",
        "\n",
        "df = pd.DataFrame(info)\n",
        "print (\"The DataFrame:\")\n",
        "print (df)\n",
        "\n",
        "# using del function\n",
        "print (\"Delete the first column:\")\n",
        "del df['one']\n",
        "print (df)\n",
        "print()\n",
        "del df['two']\n",
        "print (df)"
      ],
      "metadata": {
        "id": "RGC-BbwAdVbe"
      },
      "execution_count": null,
      "outputs": []
    },
    {
      "cell_type": "markdown",
      "source": [
        "**Row Selection, Addition, and Deletion:**"
      ],
      "metadata": {
        "id": "1dkT3BMJTlfb"
      }
    },
    {
      "cell_type": "markdown",
      "source": [
        "**Row Selection:**"
      ],
      "metadata": {
        "id": "nQh9pRZyTuVW"
      }
    },
    {
      "cell_type": "code",
      "source": [
        "# importing the pandas library\n",
        "import pandas as pd\n",
        "\n",
        "info = {'one' : pd.Series([1, 2, 3, 4, 5], index=['a', 'b', 'c', 'd', 'e']),\n",
        "   'two' : pd.Series([1, 2, 3, 4, 5, 6], index=['a', 'b', 'c', 'd', 'e', 'f'])}\n",
        "\n",
        "df = pd.DataFrame(info)\n",
        "print(df)\n",
        "print()\n",
        "print (df.loc['f'])"
      ],
      "metadata": {
        "id": "tkrKF1mhTwoI"
      },
      "execution_count": null,
      "outputs": []
    },
    {
      "cell_type": "code",
      "source": [
        "import pandas as pd\n",
        "info = {'one' : pd.Series([1, 2, 3, 4, 5], index=['a', 'b', 'c', 'd', 'e']),\n",
        "   'two' : pd.Series([1, 2, 3, 4, 5, 6], index=['a', 'b', 'c', 'd', 'e', 'f'])}\n",
        "df = pd.DataFrame(info)\n",
        "print(df)\n",
        "print()\n",
        "print(\"Selection by integer location \")  # integers count the indexes\n",
        "print (df.iloc[2])"
      ],
      "metadata": {
        "id": "3V2VrqC9W-b4"
      },
      "execution_count": null,
      "outputs": []
    },
    {
      "cell_type": "code",
      "source": [
        "import pandas as pd\n",
        "info = {'one' : pd.Series([1, 2, 3, 4, 5], index=['a', 'b', 'c', 'd', 'e']),\n",
        "   'two' : pd.Series([1, 2, 3, 4, 5, 6], index=['a', 'b', 'c', 'd', 'e', 'f'])}\n",
        "df = pd.DataFrame(info)\n",
        "print(df)\n",
        "print()\n",
        "print(\"Slice Rows\")\n",
        "print (df[2:6])"
      ],
      "metadata": {
        "id": "tn79bDWyXw5o"
      },
      "execution_count": null,
      "outputs": []
    },
    {
      "cell_type": "markdown",
      "source": [
        "**Addition of rows:**"
      ],
      "metadata": {
        "id": "0ihT0Qgeamdu"
      }
    },
    {
      "cell_type": "code",
      "source": [
        "import pandas as pd\n",
        "d = pd.DataFrame([[7, 8], [9, 10],[12,13]], columns = ['x','y'])\n",
        "print(d)\n",
        "d2 = pd.DataFrame([[11, 12], [13, 14]], columns = ['x','y'])\n",
        "print(d2)\n",
        "d = d2.append(d)\n",
        "print (d)"
      ],
      "metadata": {
        "id": "u1KmMvMGartz"
      },
      "execution_count": null,
      "outputs": []
    },
    {
      "cell_type": "code",
      "source": [
        "import pandas as pd\n",
        "\n",
        "# Creating a DataFrame\n",
        "data = {'Name': ['John', 'Alice', 'Bob'],'Age': [25, 30, 35],'City': ['New York', 'London', 'Paris']}\n",
        "\n",
        "df = pd.DataFrame(data)\n",
        "print(df)\n",
        "print()\n",
        "# Deleting the first row\n",
        "print(df.drop(0))\n",
        "print()\n",
        "print(df.drop(1))\n"
      ],
      "metadata": {
        "id": "bCsSbs7xGdxM"
      },
      "execution_count": null,
      "outputs": []
    }
  ]
}