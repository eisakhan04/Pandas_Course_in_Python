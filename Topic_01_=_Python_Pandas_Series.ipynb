{
  "nbformat": 4,
  "nbformat_minor": 0,
  "metadata": {
    "colab": {
      "private_outputs": true,
      "provenance": [],
      "include_colab_link": true
    },
    "kernelspec": {
      "name": "python3",
      "display_name": "Python 3"
    },
    "language_info": {
      "name": "python"
    }
  },
  "cells": [
    {
      "cell_type": "markdown",
      "metadata": {
        "id": "view-in-github",
        "colab_type": "text"
      },
      "source": [
        "<a href=\"https://colab.research.google.com/github/eisakhan04/Pandas_Course_in_Python/blob/main/Topic_01_%3D_Python_Pandas_Series.ipynb\" target=\"_parent\"><img src=\"https://colab.research.google.com/assets/colab-badge.svg\" alt=\"Open In Colab\"/></a>"
      ]
    },
    {
      "cell_type": "markdown",
      "source": [
        "# **Topic 01 = Python Pandas Series**"
      ],
      "metadata": {
        "id": "5UW_wUJF442S"
      }
    },
    {
      "cell_type": "markdown",
      "source": [
        "**Create an empty Series**"
      ],
      "metadata": {
        "id": "ZNO1qEzX5N8W"
      }
    },
    {
      "cell_type": "markdown",
      "source": [
        "**Example**"
      ],
      "metadata": {
        "id": "rcjlZVh35Rrc"
      }
    },
    {
      "cell_type": "code",
      "execution_count": null,
      "metadata": {
        "id": "F5kdC55u4tq1"
      },
      "outputs": [],
      "source": [
        "import pandas as pd\n",
        "x = pd.Series()\n",
        "print(x)"
      ]
    },
    {
      "cell_type": "markdown",
      "source": [
        "**Creating a Series using inputs:**\n",
        "\n",
        "We can create Series by using various inputs:\n",
        "\n",
        "1. Array\n",
        "2. Dict\n",
        "3. Scalar value"
      ],
      "metadata": {
        "id": "sK6QEYGR6dwn"
      }
    },
    {
      "cell_type": "markdown",
      "source": [
        "**1. Creating Series from Array:**"
      ],
      "metadata": {
        "id": "89qFIrn-62JK"
      }
    },
    {
      "cell_type": "markdown",
      "source": [
        "**Example 1: Create a Series from a String array:**"
      ],
      "metadata": {
        "id": "BAK5EaLk9Ny2"
      }
    },
    {
      "cell_type": "code",
      "source": [
        "import pandas as pd\n",
        "import numpy as np\n",
        "c= np.array([2,3,4,5,6,7,8,9,10])\n",
        "a = np.array(['P','a','n','d','a','s'])\n",
        "b = pd.Series(c)\n",
        "d= pd.Series(a)\n",
        "print(b,d)"
      ],
      "metadata": {
        "id": "JG_mu8iV69tv"
      },
      "execution_count": null,
      "outputs": []
    },
    {
      "cell_type": "markdown",
      "source": [
        "**Example 02: Create a Series from a one-dimensional array**"
      ],
      "metadata": {
        "id": "lkcsI5YC79Br"
      }
    },
    {
      "cell_type": "code",
      "source": [
        "import pandas as np\n",
        "a = np.array([1,2,3,4,5])\n",
        "b = pd.Series(a)\n",
        "print(b)"
      ],
      "metadata": {
        "id": "Nuxt_xa_8Sr6"
      },
      "execution_count": null,
      "outputs": []
    },
    {
      "cell_type": "markdown",
      "source": [
        "**Example 03: Create a Series from a two-dimensional array:**"
      ],
      "metadata": {
        "id": "Yx_g42ZQ9ueG"
      }
    },
    {
      "cell_type": "code",
      "source": [
        "import numpy as np\n",
        "import pandas as pd\n",
        "arr = ([[1,2,3,4],[5,6,7,6]])\n",
        "\n",
        "series = pd.DataFrame( arr.flatten())\n",
        "print(series)"
      ],
      "metadata": {
        "id": "3vbEW_Wr9z03"
      },
      "execution_count": null,
      "outputs": []
    },
    {
      "cell_type": "markdown",
      "source": [
        "# **2.  Create a Series from dict:**"
      ],
      "metadata": {
        "id": "AnvZxo6l_uSk"
      }
    },
    {
      "cell_type": "markdown",
      "source": [
        "**Example 1: Create a Series from a dictionary with default index:**"
      ],
      "metadata": {
        "id": "SYxLZLgiAs9H"
      }
    },
    {
      "cell_type": "code",
      "source": [
        "import pandas as pd\n",
        "series = pd.Series({ 5:'apple', 10:'banana' , 15:'orange' })\n",
        "series=pd.Series({'apple':2,'mango':30,'Orange':48,'banana':23})\n",
        "print(series)"
      ],
      "metadata": {
        "id": "t0fzepTOAykp"
      },
      "execution_count": null,
      "outputs": []
    },
    {
      "cell_type": "markdown",
      "source": [
        "**Example 2:Create a Series from a dictionary with mixed data types**"
      ],
      "metadata": {
        "id": "nvtooeTmAs2u"
      }
    },
    {
      "cell_type": "code",
      "source": [
        "import pandas as pd\n",
        "\n",
        "data = {'apple': 5, 'banana': 'ten', 'orange': 15.0 }\n",
        "series = pd.Series(data)\n",
        "print(series)"
      ],
      "metadata": {
        "id": "VncbGba3BeGA"
      },
      "execution_count": null,
      "outputs": []
    },
    {
      "cell_type": "markdown",
      "source": [
        "**example**"
      ],
      "metadata": {
        "id": "KB5SCObo_PoE"
      }
    },
    {
      "cell_type": "code",
      "source": [
        "import pandas as pd\n",
        "\n",
        "data = { 'ali' :7 , 'zeeshan' : 8 , 'imran' : 9 , 'eisa' : 10}\n",
        "series = pd.Series(data)\n",
        "print(series)"
      ],
      "metadata": {
        "id": "rcpDX5nA-F8V"
      },
      "execution_count": null,
      "outputs": []
    },
    {
      "cell_type": "markdown",
      "source": [
        "**3.  Create a Series using Scalar:**"
      ],
      "metadata": {
        "id": "FhBUc9idC_lR"
      }
    },
    {
      "cell_type": "markdown",
      "source": [
        "**Example 01: create a Series using a scalar value:**"
      ],
      "metadata": {
        "id": "7Da0bkdmDfLj"
      }
    },
    {
      "cell_type": "code",
      "source": [
        "import pandas as pd\n",
        "series = pd.Series(5)\n",
        "print(series)"
      ],
      "metadata": {
        "id": "sx8bcEqdDlKd"
      },
      "execution_count": null,
      "outputs": []
    },
    {
      "cell_type": "markdown",
      "source": [
        "**Example 02:  create a Series with multiple elements using a scalar value**:"
      ],
      "metadata": {
        "id": "zhki4MDPD1dU"
      }
    },
    {
      "cell_type": "code",
      "source": [
        "import pandas as pd\n",
        "# create a Series with 3 elements, all with a scalar value of 10\n",
        "series = pd.Series(10,index=[1,2,3,4,5,6,7,8,9,0])\n",
        "print(series)"
      ],
      "metadata": {
        "id": "OxZ7br9xDzaj"
      },
      "execution_count": null,
      "outputs": []
    },
    {
      "cell_type": "markdown",
      "source": [
        "**Accessing data from series with Position:**"
      ],
      "metadata": {
        "id": "51OZS-boFpNY"
      }
    },
    {
      "cell_type": "markdown",
      "source": [
        "**Example 01: access the element at position 2:**"
      ],
      "metadata": {
        "id": "tbwbQ76XGlTz"
      }
    },
    {
      "cell_type": "code",
      "source": [
        "import pandas as pd\n",
        "series = pd.Series([10, 20, 30, 40, 50],index=['ten',2,'three',4,'fifty'])\n",
        "# series = pd.Series(1,2,3,4,5 ,index='ten',2,'three',4,'fifty')\n",
        "print(series)\n",
        "print()\n",
        "print(series[2])#that is true\n",
        "# print(series[5])#an error is that index is  string fifty"
      ],
      "metadata": {
        "id": "PUWV_nTjGZBY"
      },
      "execution_count": null,
      "outputs": []
    },
    {
      "cell_type": "markdown",
      "source": [
        "**Example 02: access multiple elements from a Series by position using slicing:**"
      ],
      "metadata": {
        "id": "OY3xNG-QHQIr"
      }
    },
    {
      "cell_type": "code",
      "source": [
        "import pandas as pd\n",
        "series = pd.Series([10, 20, 30, 40, 50],index=[1,2,3,4,5])\n",
        "print(series)\n",
        "print(\"Slicing\")\n",
        "print(series[2:4])"
      ],
      "metadata": {
        "id": "mmsObb4vHV4_"
      },
      "execution_count": null,
      "outputs": []
    },
    {
      "cell_type": "markdown",
      "source": [
        "**Series object attributes:**"
      ],
      "metadata": {
        "id": "7Bp5FW30LFqG"
      }
    },
    {
      "cell_type": "code",
      "source": [
        "import pandas as pd\n",
        "series = pd.Series([10, 20, 30, 40,50 ])\n",
        "print(series)"
      ],
      "metadata": {
        "id": "TkqcLKoyIPE0"
      },
      "execution_count": null,
      "outputs": []
    },
    {
      "cell_type": "code",
      "source": [
        "print(series.index)"
      ],
      "metadata": {
        "id": "t8fc28GrIton"
      },
      "execution_count": null,
      "outputs": []
    },
    {
      "cell_type": "code",
      "source": [
        "print(series.dtype)"
      ],
      "metadata": {
        "id": "pBn-t0lxItgT"
      },
      "execution_count": null,
      "outputs": []
    },
    {
      "cell_type": "code",
      "source": [
        "print(series.size)"
      ],
      "metadata": {
        "id": "m_JlJ2P_JK-r"
      },
      "execution_count": null,
      "outputs": []
    },
    {
      "cell_type": "code",
      "source": [
        "print(series.empty)"
      ],
      "metadata": {
        "id": "oIfA-YU1JM-e"
      },
      "execution_count": null,
      "outputs": []
    },
    {
      "cell_type": "code",
      "source": [
        "print(series.hasnans)"
      ],
      "metadata": {
        "id": "oBMaVSrSJOYa"
      },
      "execution_count": null,
      "outputs": []
    },
    {
      "cell_type": "code",
      "source": [
        "print(series.nbytes)"
      ],
      "metadata": {
        "id": "kDkBH8LOJOTX"
      },
      "execution_count": null,
      "outputs": []
    },
    {
      "cell_type": "code",
      "source": [
        "print(series.ndim)"
      ],
      "metadata": {
        "id": "pc4ltOoTJXmF"
      },
      "execution_count": null,
      "outputs": []
    },
    {
      "cell_type": "code",
      "source": [
        "print(series.name)"
      ],
      "metadata": {
        "id": "AMbiI9R7Jaoo"
      },
      "execution_count": null,
      "outputs": []
    },
    {
      "cell_type": "markdown",
      "source": [
        "**Creating a Series with custom index labels:**"
      ],
      "metadata": {
        "id": "vrkIiLs7Ol_2"
      }
    },
    {
      "cell_type": "code",
      "source": [
        "import pandas as pd\n",
        "series = pd.Series([1,2,3,4],index =['a','b','c','d'])\n",
        "print(series)"
      ],
      "metadata": {
        "id": "ncTnwG4aO6WW"
      },
      "execution_count": null,
      "outputs": []
    },
    {
      "cell_type": "markdown",
      "source": [
        "**Retrieving Index array and data array of a series object**\n",
        "\n"
      ],
      "metadata": {
        "id": "DkxWMiqgvM6x"
      }
    },
    {
      "cell_type": "code",
      "source": [
        "import pandas as pd\n",
        "\n",
        "series1 = pd.Series([10, 20, 30, 40, 50], index=[1, 2, 3, 4, 5])\n",
        "df = pd.DataFrame({'Col': series1})\n",
        "print(df)\n",
        "print()"
      ],
      "metadata": {
        "id": "zlQIfwQ9vW5Q"
      },
      "execution_count": null,
      "outputs": []
    },
    {
      "cell_type": "markdown",
      "source": [
        "**Retrieving Types (dtype) and Size of Type (itemsize)**"
      ],
      "metadata": {
        "id": "tG1uDiqHwT0h"
      }
    },
    {
      "cell_type": "code",
      "source": [
        "import pandas as pd\n",
        "a=pd.Series(data=[1,2,3,4])\n",
        "b=pd.Series(data=[4.9,8.2,5.6],index=['x','y','z'])\n",
        "print(a.dtype)\n",
        "print()\n",
        "print(a.item)\n",
        "print()\n",
        "print(b.dtype)\n",
        "print()\n",
        "print(b.item)"
      ],
      "metadata": {
        "id": "OebDFvKgwWeQ"
      },
      "execution_count": null,
      "outputs": []
    },
    {
      "cell_type": "markdown",
      "source": [
        "**Retrieving Shape**"
      ],
      "metadata": {
        "id": "zbKnMYXSxMpy"
      }
    },
    {
      "cell_type": "code",
      "source": [
        "import pandas as pd\n",
        "a=pd.Series(data=[1,2,3,4])\n",
        "b=pd.Series(data=[4.9,8.2,5.6],index=['x','y','z'])\n",
        "print(a.shape)\n",
        "print(b.shape)"
      ],
      "metadata": {
        "id": "T8PFibPxxPLc"
      },
      "execution_count": null,
      "outputs": []
    },
    {
      "cell_type": "markdown",
      "source": [
        "**1.1:Pandas Series.map()**"
      ],
      "metadata": {
        "id": "F2sbYiebxwm1"
      }
    },
    {
      "cell_type": "code",
      "source": [
        "import numpy as np\n",
        "import pandas as pd\n",
        "a = pd.Series(['Java', 'C', 'C++','Java' ])\n",
        "a.map({'Java': 3})"
      ],
      "metadata": {
        "id": "Lv6HjJVxzEFB"
      },
      "execution_count": null,
      "outputs": []
    },
    {
      "cell_type": "markdown",
      "source": [
        "**1.5:Pandas Series.std()**"
      ],
      "metadata": {
        "id": "OxIVGSh3znma"
      }
    },
    {
      "cell_type": "code",
      "source": [
        "import pandas as pd\n",
        "print(np.std([2,3,4,5,5,6,7]))\n",
        "print()\n",
        "print(np.std([6,9,15,2,-17,15,4]))"
      ],
      "metadata": {
        "id": "V-cDH8Q1iu1R"
      },
      "execution_count": null,
      "outputs": []
    },
    {
      "cell_type": "code",
      "source": [
        "import pandas as pd\n",
        "print(np.std([4,7,2,1,6,3]))\n",
        "print()\n",
        "print(np.std([6,9,15,2,-17,15,4]))"
      ],
      "metadata": {
        "id": "2rb3UUn2zxQF"
      },
      "execution_count": null,
      "outputs": []
    },
    {
      "cell_type": "markdown",
      "source": [
        "**1.3:Pandas Series.to_frame()**"
      ],
      "metadata": {
        "id": "2FukdoEm0iOw"
      }
    },
    {
      "cell_type": "code",
      "source": [
        "import pandas as pd\n",
        "a = pd.Series(['Parker', 'John', 'Smith', 'William'] )\n",
        "b = pd.Series([102, 107, 109, 114])\n",
        "frame = { 'X': a, 'Y':b }\n",
        "result = pd.DataFrame(frame)\n",
        "result"
      ],
      "metadata": {
        "id": "eVCX7PZ30n57"
      },
      "execution_count": null,
      "outputs": []
    },
    {
      "cell_type": "code",
      "source": [
        "import pandas as pd\n",
        "a = pd.Series(['Pakistan', 'India', 'Bangladesh', 'America'])\n",
        "b = pd.Series([102, 107, 109, 114])\n",
        "frame = { 'Country': a, 'Currancy':b }\n",
        "result = pd.DataFrame(frame)\n",
        "result"
      ],
      "metadata": {
        "id": "gEkNNpd80we4"
      },
      "execution_count": null,
      "outputs": []
    },
    {
      "cell_type": "markdown",
      "source": [
        "**1.4:Pandas Series.unique()**"
      ],
      "metadata": {
        "id": "hYjRPo9i1TBK"
      }
    },
    {
      "cell_type": "code",
      "source": [
        "import pandas as pd\n",
        "pd.unique(pd.Series([2, 1, 3, 3]))\n",
        "pd.unique(pd.Series([pd.Timestamp('20160101'),pd.Timestamp('20160101')]))"
      ],
      "metadata": {
        "id": "R01FnJ0j1X7c"
      },
      "execution_count": null,
      "outputs": []
    },
    {
      "cell_type": "code",
      "source": [
        "import pandas as pd\n",
        "\n",
        "# create a series of colors\n",
        "colors =pd.Series(['red', 'green', 'blue', 'green', 'yellow', 'red'])\n",
        "\n",
        "# find the unique values in the series\n",
        "unique_colors = pd.unique(colors)\n",
        "\n",
        "print(unique_colors)"
      ],
      "metadata": {
        "id": "cH3OptDv2QOQ"
      },
      "execution_count": null,
      "outputs": []
    },
    {
      "cell_type": "markdown",
      "source": [
        "**1.5:Pandas Series.value_counts()**"
      ],
      "metadata": {
        "id": "FOUyyiHS3UMS"
      }
    },
    {
      "cell_type": "code",
      "source": [
        "import pandas as pd\n",
        "\n",
        "# create a series of fruits\n",
        "fruits = pd.Series(['apple', 'banana', 'apple', 'orange', 'kiwi', 'kiwi', 'apple'])\n",
        "\n",
        "# count the occurrence of each fruit in the series\n",
        "fruit_counts = fruits.value_counts()\n",
        "\n",
        "print(fruit_counts)"
      ],
      "metadata": {
        "id": "3MSn1G4l3ZSu"
      },
      "execution_count": null,
      "outputs": []
    },
    {
      "cell_type": "code",
      "source": [
        "book = pd.Series(['english','biology','math','english','biology','urdu','math','english','biology','urdu'])\n",
        "book_counts = book.value_counts()\n",
        "print(book_counts)"
      ],
      "metadata": {
        "id": "h9Pvlq9C2HET"
      },
      "execution_count": null,
      "outputs": []
    }
  ]
}